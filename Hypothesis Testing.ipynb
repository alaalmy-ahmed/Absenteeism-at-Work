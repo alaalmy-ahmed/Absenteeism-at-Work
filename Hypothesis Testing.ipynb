{
 "cells": [
  {
   "attachments": {},
   "cell_type": "markdown",
   "metadata": {},
   "source": [
    "## Hypothesis Testing Phase:\n",
    "1. people tend to be absent for no-disease reasons more than disease reasons. (reject null hypothesis)\n",
    "2. Being a Social smoker doesn't affect that you will be absent for disease or no. (fail to reject the null hypothesis)\n",
    "3. Being a Social drinker doesn't correlates positively with being absent for no-disease.  (fail to reject the null hypothesis)\n",
    "4. High school grade appears more than any other grade in the dataset.(reject the null hypothesis)\n",
    "5. Mid-Career professionals are the top career level for absence. (fail to reject the null hypothesis)\n",
    "6. Drinkers absent long durations (reject the null hypothesis)\n",
    "7. Smoking doesn't affect the duration of absence. (fail to reject the null hypothesis)\n",
    "8. Weight correlates positively with Duration (reject the null hypothesis)\n",
    "9. Old people are more in the disease area. (fail to reject the null hypothesis)\n",
    "10. Highly educated employees tend to have short durations.\n",
    "11. There is no correlation between Distancee from Residence to work and Absenteeism in hours. (reject the null hypothesis)\n",
    "12. There is a slightly positive correlation between Transportation Expense and Absenteeism in hours. (fail reject the null hypothesis)\n",
    "13. There is a slightly negative correlation between Service time and Absenteeism in hours. (fail reject the null hypothesis)\n",
    "14. The fewest absences occur in Thursday, same thing with duration\n",
    "15. July has the longest duration (fail to reject the null hypothesis)\n",
    "16. Having no children seems to correlate negativly with both duration and absence itself. (fail to reject the null hypothesis)"
   ]
  },
  {
   "cell_type": "code",
   "execution_count": 119,
   "metadata": {},
   "outputs": [],
   "source": [
    "import numpy as np\n",
    "import pandas as pd\n",
    "import scipy.stats as stats\n",
    "import warnings\n",
    "warnings.filterwarnings('ignore')"
   ]
  },
  {
   "cell_type": "code",
   "execution_count": 120,
   "metadata": {},
   "outputs": [
    {
     "data": {
      "text/html": [
       "<div>\n",
       "<style scoped>\n",
       "    .dataframe tbody tr th:only-of-type {\n",
       "        vertical-align: middle;\n",
       "    }\n",
       "\n",
       "    .dataframe tbody tr th {\n",
       "        vertical-align: top;\n",
       "    }\n",
       "\n",
       "    .dataframe thead th {\n",
       "        text-align: right;\n",
       "    }\n",
       "</style>\n",
       "<table border=\"1\" class=\"dataframe\">\n",
       "  <thead>\n",
       "    <tr style=\"text-align: right;\">\n",
       "      <th></th>\n",
       "      <th>ID</th>\n",
       "      <th>Reason for absence</th>\n",
       "      <th>Month of absence</th>\n",
       "      <th>Day of the week</th>\n",
       "      <th>Seasons</th>\n",
       "      <th>Transportation expense</th>\n",
       "      <th>Distance from Residence to Work</th>\n",
       "      <th>Service time</th>\n",
       "      <th>Age</th>\n",
       "      <th>Work load Average/day</th>\n",
       "      <th>...</th>\n",
       "      <th>Social drinker</th>\n",
       "      <th>Social smoker</th>\n",
       "      <th>Pet</th>\n",
       "      <th>Weight</th>\n",
       "      <th>Height</th>\n",
       "      <th>Body mass index</th>\n",
       "      <th>Absenteeism time in hours</th>\n",
       "      <th>Disease</th>\n",
       "      <th>BMI category</th>\n",
       "      <th>Career level</th>\n",
       "    </tr>\n",
       "  </thead>\n",
       "  <tbody>\n",
       "    <tr>\n",
       "      <th>0</th>\n",
       "      <td>11</td>\n",
       "      <td>26</td>\n",
       "      <td>July</td>\n",
       "      <td>Tuesday</td>\n",
       "      <td>Spring</td>\n",
       "      <td>289</td>\n",
       "      <td>36</td>\n",
       "      <td>13</td>\n",
       "      <td>33</td>\n",
       "      <td>239.554</td>\n",
       "      <td>...</td>\n",
       "      <td>Yes</td>\n",
       "      <td>No</td>\n",
       "      <td>1</td>\n",
       "      <td>90</td>\n",
       "      <td>172</td>\n",
       "      <td>30</td>\n",
       "      <td>4</td>\n",
       "      <td>No</td>\n",
       "      <td>Obese</td>\n",
       "      <td>Mid young adult</td>\n",
       "    </tr>\n",
       "    <tr>\n",
       "      <th>1</th>\n",
       "      <td>36</td>\n",
       "      <td>0</td>\n",
       "      <td>July</td>\n",
       "      <td>Tuesday</td>\n",
       "      <td>Spring</td>\n",
       "      <td>118</td>\n",
       "      <td>13</td>\n",
       "      <td>18</td>\n",
       "      <td>50</td>\n",
       "      <td>239.554</td>\n",
       "      <td>...</td>\n",
       "      <td>Yes</td>\n",
       "      <td>No</td>\n",
       "      <td>0</td>\n",
       "      <td>98</td>\n",
       "      <td>178</td>\n",
       "      <td>31</td>\n",
       "      <td>0</td>\n",
       "      <td>No</td>\n",
       "      <td>Obese</td>\n",
       "      <td>Late career professional</td>\n",
       "    </tr>\n",
       "    <tr>\n",
       "      <th>2</th>\n",
       "      <td>3</td>\n",
       "      <td>23</td>\n",
       "      <td>July</td>\n",
       "      <td>Wednesday</td>\n",
       "      <td>Spring</td>\n",
       "      <td>179</td>\n",
       "      <td>51</td>\n",
       "      <td>18</td>\n",
       "      <td>38</td>\n",
       "      <td>239.554</td>\n",
       "      <td>...</td>\n",
       "      <td>Yes</td>\n",
       "      <td>No</td>\n",
       "      <td>0</td>\n",
       "      <td>89</td>\n",
       "      <td>170</td>\n",
       "      <td>31</td>\n",
       "      <td>2</td>\n",
       "      <td>No</td>\n",
       "      <td>Obese</td>\n",
       "      <td>Mid career professional</td>\n",
       "    </tr>\n",
       "    <tr>\n",
       "      <th>3</th>\n",
       "      <td>7</td>\n",
       "      <td>7</td>\n",
       "      <td>July</td>\n",
       "      <td>Thursday</td>\n",
       "      <td>Spring</td>\n",
       "      <td>279</td>\n",
       "      <td>5</td>\n",
       "      <td>14</td>\n",
       "      <td>39</td>\n",
       "      <td>239.554</td>\n",
       "      <td>...</td>\n",
       "      <td>Yes</td>\n",
       "      <td>Yes</td>\n",
       "      <td>0</td>\n",
       "      <td>68</td>\n",
       "      <td>168</td>\n",
       "      <td>24</td>\n",
       "      <td>4</td>\n",
       "      <td>Yes</td>\n",
       "      <td>Normal Weight</td>\n",
       "      <td>Mid career professional</td>\n",
       "    </tr>\n",
       "    <tr>\n",
       "      <th>4</th>\n",
       "      <td>11</td>\n",
       "      <td>23</td>\n",
       "      <td>July</td>\n",
       "      <td>Thursday</td>\n",
       "      <td>Spring</td>\n",
       "      <td>289</td>\n",
       "      <td>36</td>\n",
       "      <td>13</td>\n",
       "      <td>33</td>\n",
       "      <td>239.554</td>\n",
       "      <td>...</td>\n",
       "      <td>Yes</td>\n",
       "      <td>No</td>\n",
       "      <td>1</td>\n",
       "      <td>90</td>\n",
       "      <td>172</td>\n",
       "      <td>30</td>\n",
       "      <td>2</td>\n",
       "      <td>No</td>\n",
       "      <td>Obese</td>\n",
       "      <td>Mid young adult</td>\n",
       "    </tr>\n",
       "  </tbody>\n",
       "</table>\n",
       "<p>5 rows × 24 columns</p>\n",
       "</div>"
      ],
      "text/plain": [
       "   ID  Reason for absence Month of absence Day of the week Seasons  \\\n",
       "0  11                  26             July         Tuesday  Spring   \n",
       "1  36                   0             July         Tuesday  Spring   \n",
       "2   3                  23             July       Wednesday  Spring   \n",
       "3   7                   7             July        Thursday  Spring   \n",
       "4  11                  23             July        Thursday  Spring   \n",
       "\n",
       "   Transportation expense  Distance from Residence to Work  Service time  Age  \\\n",
       "0                     289                               36            13   33   \n",
       "1                     118                               13            18   50   \n",
       "2                     179                               51            18   38   \n",
       "3                     279                                5            14   39   \n",
       "4                     289                               36            13   33   \n",
       "\n",
       "   Work load Average/day   ...  Social drinker Social smoker Pet  Weight  \\\n",
       "0                 239.554  ...             Yes            No   1      90   \n",
       "1                 239.554  ...             Yes            No   0      98   \n",
       "2                 239.554  ...             Yes            No   0      89   \n",
       "3                 239.554  ...             Yes           Yes   0      68   \n",
       "4                 239.554  ...             Yes            No   1      90   \n",
       "\n",
       "  Height Body mass index  Absenteeism time in hours  Disease   BMI category  \\\n",
       "0    172              30                          4       No          Obese   \n",
       "1    178              31                          0       No          Obese   \n",
       "2    170              31                          2       No          Obese   \n",
       "3    168              24                          4      Yes  Normal Weight   \n",
       "4    172              30                          2       No          Obese   \n",
       "\n",
       "               Career level  \n",
       "0           Mid young adult  \n",
       "1  Late career professional  \n",
       "2   Mid career professional  \n",
       "3   Mid career professional  \n",
       "4           Mid young adult  \n",
       "\n",
       "[5 rows x 24 columns]"
      ]
     },
     "execution_count": 120,
     "metadata": {},
     "output_type": "execute_result"
    }
   ],
   "source": [
    "df = pd.read_csv('preprocessed_data.csv')\n",
    "df.head()"
   ]
  },
  {
   "attachments": {},
   "cell_type": "markdown",
   "metadata": {},
   "source": [
    "#### people tend to be absent for no-disease reasons more than disease reasons.\n",
    "- H_0 : disease >= no-disease\n",
    "- H_A : disease < no-disease"
   ]
  },
  {
   "cell_type": "code",
   "execution_count": 121,
   "metadata": {},
   "outputs": [
    {
     "name": "stdout",
     "output_type": "stream",
     "text": [
      "statistic is : 11.741, p-value: 0.000\n"
     ]
    }
   ],
   "source": [
    "# count the number of successes and total trials in each group\n",
    "count = df['Disease'].value_counts().values\n",
    "nobs = df['Disease'].value_counts().sum()\n",
    "\n",
    "# calculate the sample proportions\n",
    "prop1 = count[0] / nobs\n",
    "prop2 = count[1] / nobs\n",
    "\n",
    "# perform two-sample t-test assuming equal variances\n",
    "t_stat, p_value = stats.ttest_ind_from_stats(prop1,\n",
    "                                             np.sqrt(prop1*(1-prop1)),\n",
    "                                             nobs,\n",
    "                                             prop2,\n",
    "                                             np.sqrt(prop2*(1-prop2)),\n",
    "                                             nobs,\n",
    "                                             equal_var=True,\n",
    "                                             alternative='greater')\n",
    "\n",
    "print(f'statistic is : {t_stat:.003f}, p-value: {p_value:.003f}')"
   ]
  },
  {
   "attachments": {},
   "cell_type": "markdown",
   "metadata": {},
   "source": [
    "#### Being a Social smoker doesn't affect that you will be absent for disease or no.\n",
    "- H_0 : smoker in disease = smoker in disease\n",
    "- H_A : smoker in disease != smoker in disease"
   ]
  },
  {
   "cell_type": "code",
   "execution_count": 122,
   "metadata": {},
   "outputs": [
    {
     "name": "stdout",
     "output_type": "stream",
     "text": [
      "statistic is : 0.000, p-value: 1.000\n"
     ]
    }
   ],
   "source": [
    "# count the number of successes and total trials in each group\n",
    "mask = df['Disease'] == 'Yes'\n",
    "\n",
    "disease = df[mask]\n",
    "no_disease = df[~mask]\n",
    "\n",
    "count1 = disease['Social smoker'].value_counts()\n",
    "count2 = no_disease['Social smoker'].value_counts()\n",
    "\n",
    "nobs = count1[1] + count2[1]\n",
    "\n",
    "# calculate the sample proportions\n",
    "prop1 = count1[1] / nobs\n",
    "prop2 = count1[1] / nobs\n",
    "\n",
    "# perform two-sample t-test assuming equal variances\n",
    "t_stat, p_value = stats.ttest_ind_from_stats(prop1,\n",
    "                                             np.sqrt(prop1*(1-prop1)),\n",
    "                                             nobs,\n",
    "                                             prop2,\n",
    "                                             np.sqrt(prop2*(1-prop2)),\n",
    "                                             nobs,\n",
    "                                             equal_var=True)\n",
    "print(f'statistic is : {t_stat:.003f}, p-value: {p_value:.003f}')"
   ]
  },
  {
   "attachments": {},
   "cell_type": "markdown",
   "metadata": {},
   "source": [
    "#### Being a Social drinker  correlates positively with being absent for no-disease.\n",
    "- H_0 : drinker in disease = drinker in disease\n",
    "- H_A : drinker in no-disease != drinker in no-disease"
   ]
  },
  {
   "cell_type": "code",
   "execution_count": 123,
   "metadata": {},
   "outputs": [
    {
     "name": "stdout",
     "output_type": "stream",
     "text": [
      "statistic is : 0.000, p-value: 1.000\n"
     ]
    }
   ],
   "source": [
    "# count the number of successes and total trials in each group\n",
    "mask = df['Disease'] == 'Yes'\n",
    "\n",
    "disease = df[mask]\n",
    "no_disease = df[~mask]\n",
    "\n",
    "count1 = disease['Social drinker'].value_counts()\n",
    "count2 = no_disease['Social drinker'].value_counts()\n",
    "\n",
    "nobs = count1[0] + count2[0]\n",
    "\n",
    "# calculate the sample proportions\n",
    "prop1 = count1[0] / nobs\n",
    "prop2 = count1[0] / nobs\n",
    "\n",
    "# perform two-sample t-test assuming equal variances\n",
    "t_stat, p_value = stats.ttest_ind_from_stats(prop1,\n",
    "                                             np.sqrt(prop1*(1-prop1)),\n",
    "                                             nobs,\n",
    "                                             prop2,\n",
    "                                             np.sqrt(prop2*(1-prop2)),\n",
    "                                             nobs)\n",
    "\n",
    "print(f'statistic is : {t_stat:.003f}, p-value: {p_value:.003f}')"
   ]
  },
  {
   "attachments": {},
   "cell_type": "markdown",
   "metadata": {},
   "source": [
    "#### High school grade appears more than any other grade in the dataset.\n",
    "- H_0 : high school <= other grades\n",
    "- H_A : high school > other grades"
   ]
  },
  {
   "cell_type": "code",
   "execution_count": 124,
   "metadata": {},
   "outputs": [
    {
     "name": "stdout",
     "output_type": "stream",
     "text": [
      "statistic is : 33.024, p-value: 0.000\n"
     ]
    }
   ],
   "source": [
    "# count the number of successes and total trials in each group\n",
    "count = df['Education'].value_counts().values\n",
    "nobs = df['Education'].value_counts().sum()\n",
    "\n",
    "# calculate the sample proportions\n",
    "prop1 = count[0] / nobs\n",
    "prop2 = 1 - prop1\n",
    "\n",
    "# perform two-sample t-test assuming equal variances\n",
    "t_stat, p_value = stats.ttest_ind_from_stats(prop1,\n",
    "                                             np.sqrt(prop1*(1-prop1)),\n",
    "                                             nobs,\n",
    "                                             prop2,\n",
    "                                             np.sqrt(prop2*(1-prop2)),\n",
    "                                             nobs,\n",
    "                                             equal_var=True,\n",
    "                                             alternative='greater')\n",
    "\n",
    "print(f'statistic is : {t_stat:.003f}, p-value: {p_value:.003f}')"
   ]
  },
  {
   "attachments": {},
   "cell_type": "markdown",
   "metadata": {},
   "source": [
    "#### Mid-Career professionals are the top career level for absence.\n",
    "- H_0 : Mid-Career professionals <= other career levels\n",
    "- H_A : Mid-Career professionals > other career levels"
   ]
  },
  {
   "cell_type": "code",
   "execution_count": 125,
   "metadata": {},
   "outputs": [
    {
     "name": "stdout",
     "output_type": "stream",
     "text": [
      "statistic is : -0.520, p-value: 0.698\n"
     ]
    }
   ],
   "source": [
    "# count the number of successes and total trials in each group\n",
    "count = df['Career level'].value_counts().values\n",
    "nobs = df['Career level'].value_counts().sum()\n",
    "\n",
    "# calculate the sample proportions\n",
    "prop1 = count[0] / nobs\n",
    "prop2 = 1 - prop1\n",
    "\n",
    "# perform two-sample t-test assuming equal variances\n",
    "t_stat, p_value = stats.ttest_ind_from_stats(prop1,\n",
    "                                             np.sqrt(prop1*(1-prop1)),\n",
    "                                             nobs,\n",
    "                                             prop2,\n",
    "                                             np.sqrt(prop2*(1-prop2)),\n",
    "                                             nobs,\n",
    "                                             equal_var=True,\n",
    "                                             alternative='greater')\n",
    "\n",
    "print(f'statistic is : {t_stat:.003f}, p-value: {p_value:.003f}')"
   ]
  },
  {
   "attachments": {},
   "cell_type": "markdown",
   "metadata": {},
   "source": [
    "#### Drinkers absent longer durations\n",
    "- H_0 : non-Drinkers duration >= Drinkers duration\n",
    "- H_A : non-Drinkers duration < Drinkers duration"
   ]
  },
  {
   "cell_type": "code",
   "execution_count": 126,
   "metadata": {},
   "outputs": [
    {
     "name": "stdout",
     "output_type": "stream",
     "text": [
      "statistic is : -1.771, p-value: 0.038\n"
     ]
    }
   ],
   "source": [
    "mask = df['Social drinker'] == 'Yes'\n",
    "\n",
    "drinkers_duration = df[mask]['Absenteeism time in hours']\n",
    "non_drinkers_duration = df[~mask]['Absenteeism time in hours']\n",
    "\n",
    "t_stat, p_value = stats.ttest_ind(non_drinkers_duration,\n",
    "                                       drinkers_duration,\n",
    "                                       alternative='less')\n",
    "\n",
    "print(f'statistic is : {t_stat:.003f}, p-value: {p_value:.003f}')"
   ]
  },
  {
   "attachments": {},
   "cell_type": "markdown",
   "metadata": {},
   "source": [
    "#### Smoking doesn't affect durations\n",
    "- H_0 : non-smokers duration >= smokers duration\n",
    "- H_A : non-smokers duration < smokers duration"
   ]
  },
  {
   "cell_type": "code",
   "execution_count": 127,
   "metadata": {},
   "outputs": [
    {
     "name": "stdout",
     "output_type": "stream",
     "text": [
      "statistic is : 0.243, p-value: 0.596\n"
     ]
    }
   ],
   "source": [
    "mask = df['Social smoker'] == 'Yes'\n",
    "\n",
    "smokers_duration = df[mask]['Absenteeism time in hours']\n",
    "non_smokers_duration = df[~mask]['Absenteeism time in hours']\n",
    "\n",
    "t_stat, p_value = stats.ttest_ind(non_smokers_duration,\n",
    "                                       smokers_duration,\n",
    "                                       alternative='less')\n",
    "\n",
    "print(f'statistic is : {t_stat:.003f}, p-value: {p_value:.003f}')"
   ]
  },
  {
   "attachments": {},
   "cell_type": "markdown",
   "metadata": {},
   "source": [
    "#### Weight correlates positively with Duration\n",
    "- H_0 : there is  no correlation\n",
    "- H_A : there is a correlation"
   ]
  },
  {
   "cell_type": "code",
   "execution_count": 128,
   "metadata": {},
   "outputs": [
    {
     "name": "stdout",
     "output_type": "stream",
     "text": [
      "statistic is : 0.016, p-value: 0.668\n"
     ]
    }
   ],
   "source": [
    "# extract the two columns of interest\n",
    "col1 = df['Weight']\n",
    "col2 = df['Absenteeism time in hours']\n",
    "\n",
    "# calculate the Pearson correlation coefficient and p-value\n",
    "corr_coef, p_value = stats.pearsonr(col1, col2)\n",
    "\n",
    "print(f'statistic is : {corr_coef:.003f}, p-value: {p_value:.003f}')"
   ]
  },
  {
   "attachments": {},
   "cell_type": "markdown",
   "metadata": {},
   "source": [
    "#### old people are more in the disease area.\n",
    "- H_0: old people are the same for both disease and no-diseas areas\n",
    "- H_1:old people are not the same for both disease and no-diseas areas"
   ]
  },
  {
   "cell_type": "code",
   "execution_count": 129,
   "metadata": {},
   "outputs": [
    {
     "name": "stdout",
     "output_type": "stream",
     "text": [
      "Test for equality of means: statistic=0.630, pvalue=0.529\n",
      "KS test for equality of distributions: statistic=0.057, pvalue=0.619\n"
     ]
    }
   ],
   "source": [
    "\"\"\"\n",
    "get Age entries for employees with Disease == Yes and Disease == No\n",
    "\"\"\"\n",
    "disease_mask = df[\"Disease\"] == \"Yes\"\n",
    "disease_ages = df[\"Age\"][disease_mask]\n",
    "no_disease_ages = df[\"Age\"][~disease_mask]\n",
    "\n",
    "# perform hypothesis test for equality of means\n",
    "test_res = stats.ttest_ind(disease_ages, no_disease_ages)\n",
    "print(f\"Test for equality of means: statistic={test_res[0]:0.3f}, pvalue={test_res[1]:0.3f}\")\n",
    "\n",
    "# test equality of distributions via Kolmogorov-Smirnov test\n",
    "ks_res = stats.ks_2samp(disease_ages, no_disease_ages)\n",
    "print(f\"KS test for equality of distributions: statistic={ks_res[0]:0.3f}, pvalue={ks_res[1]:0.3f}\")"
   ]
  },
  {
   "attachments": {},
   "cell_type": "markdown",
   "metadata": {},
   "source": [
    "#### There is no correlation between Distancee from Residence to work and Absenteeism in hours.\n",
    "- H_0: there is no correlation\n",
    "- H_1: there is a correlation"
   ]
  },
  {
   "cell_type": "code",
   "execution_count": 130,
   "metadata": {},
   "outputs": [
    {
     "name": "stdout",
     "output_type": "stream",
     "text": [
      "statistic is : -0.088, p-value: 0.016\n"
     ]
    }
   ],
   "source": [
    "# extract the two columns of interest\n",
    "col1 = df['Distance from Residence to Work']\n",
    "col2 = df['Absenteeism time in hours']\n",
    "\n",
    "# calculate the Pearson correlation coefficient and p-value\n",
    "corr_coef, p_value = stats.pearsonr(col1, col2)\n",
    "\n",
    "print(f'statistic is : {corr_coef:.003f}, p-value: {p_value:.003f}')"
   ]
  },
  {
   "attachments": {},
   "cell_type": "markdown",
   "metadata": {},
   "source": [
    "#### There is no correlation between Transportation expense and Absenteeism in hours.\n",
    "- H_0: there is no correlation\n",
    "- H_1: there is a correlation"
   ]
  },
  {
   "cell_type": "code",
   "execution_count": 131,
   "metadata": {},
   "outputs": [
    {
     "name": "stdout",
     "output_type": "stream",
     "text": [
      "statistic is : 0.028, p-value: 0.454\n"
     ]
    }
   ],
   "source": [
    "# extract the two columns of interest\n",
    "col1 = df['Transportation expense']\n",
    "col2 = df['Absenteeism time in hours']\n",
    "\n",
    "# calculate the Pearson correlation coefficient and p-value\n",
    "corr_coef, p_value = stats.pearsonr(col1, col2)\n",
    "\n",
    "print(f'statistic is : {corr_coef:.003f}, p-value: {p_value:.003f}')"
   ]
  },
  {
   "attachments": {},
   "cell_type": "markdown",
   "metadata": {},
   "source": [
    "#### There is no correlation between Service time and Absenteeism in hours.\n",
    "- H_0: there is no correlation\n",
    "- H_1: there is a correlation"
   ]
  },
  {
   "cell_type": "code",
   "execution_count": 132,
   "metadata": {},
   "outputs": [
    {
     "name": "stdout",
     "output_type": "stream",
     "text": [
      "statistic is : 0.019, p-value: 0.605\n"
     ]
    }
   ],
   "source": [
    "# extract the two columns of interest\n",
    "col1 = df['Service time']\n",
    "col2 = df['Absenteeism time in hours']\n",
    "\n",
    "# calculate the Pearson correlation coefficient and p-value\n",
    "corr_coef, p_value = stats.pearsonr(col1, col2)\n",
    "\n",
    "print(f'statistic is : {corr_coef:.003f}, p-value: {p_value:.003f}')"
   ]
  },
  {
   "attachments": {},
   "cell_type": "markdown",
   "metadata": {},
   "source": [
    "#### July has the longest duration\n",
    "- H_0: other_months durations >= july duration\n",
    "- H_1: other_months durations < july duration"
   ]
  },
  {
   "cell_type": "code",
   "execution_count": 133,
   "metadata": {},
   "outputs": [
    {
     "name": "stdout",
     "output_type": "stream",
     "text": [
      "statistic is : -2.605, p-value: 0.995\n"
     ]
    }
   ],
   "source": [
    "mask = df['Month of absence'] == 'July'\n",
    "\n",
    "july_duration = df[mask]['Absenteeism time in hours']\n",
    "other_months_duration = df[~mask]['Absenteeism time in hours']\n",
    "\n",
    "t_stat, p_value = stats.ttest_ind(other_months_duration,\n",
    "                                       july_duration,\n",
    "                                       alternative='greater')\n",
    "\n",
    "print(f'statistic is : {t_stat:.003f}, p-value: {p_value:.003f}')"
   ]
  },
  {
   "attachments": {},
   "cell_type": "markdown",
   "metadata": {},
   "source": [
    "#### Having no children seems to correlate negativly with both duration and absence itself.\n",
    "- H_0: children durations >= no_children duration\n",
    "- H_1: children durations < no_children duration"
   ]
  },
  {
   "cell_type": "code",
   "execution_count": 134,
   "metadata": {},
   "outputs": [
    {
     "name": "stdout",
     "output_type": "stream",
     "text": [
      "statistic is : 2.588, p-value: 0.995\n"
     ]
    }
   ],
   "source": [
    "mask = df['Son'] == 0\n",
    "\n",
    "no_children = df[mask]['Absenteeism time in hours']\n",
    "children = df[~mask]['Absenteeism time in hours']\n",
    "\n",
    "t_stat, p_value = stats.ttest_ind(children,\n",
    "                                  no_children,\n",
    "                                  alternative='less')\n",
    "\n",
    "print(f'statistic is : {t_stat:.003f}, p-value: {p_value:.003f}')"
   ]
  },
  {
   "cell_type": "code",
   "execution_count": null,
   "metadata": {},
   "outputs": [],
   "source": []
  }
 ],
 "metadata": {
  "kernelspec": {
   "display_name": "Python 3",
   "language": "python",
   "name": "python3"
  },
  "language_info": {
   "codemirror_mode": {
    "name": "ipython",
    "version": 3
   },
   "file_extension": ".py",
   "mimetype": "text/x-python",
   "name": "python",
   "nbconvert_exporter": "python",
   "pygments_lexer": "ipython3",
   "version": "3.10.7"
  },
  "orig_nbformat": 4
 },
 "nbformat": 4,
 "nbformat_minor": 2
}
