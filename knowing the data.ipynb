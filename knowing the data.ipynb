{
 "cells": [
  {
   "attachments": {},
   "cell_type": "markdown",
   "metadata": {},
   "source": [
    "# In This Notebook we will do Visual Analysis on the **Absenteeism at Work** dataset. \n",
    "- This notebook is motivated by the data analysis workshop by Gururajan Govindan, Shubhangi Hora, and Konstantin Palagachev"
   ]
  },
  {
   "cell_type": "code",
   "execution_count": null,
   "metadata": {},
   "outputs": [],
   "source": [
    "import numpy as np\n",
    "import pandas as pd\n",
    "import matplotlib.pyplot as plt\n",
    "import warnings\n",
    "\n",
    "%matplotlib inline\n",
    "warnings.filterwarnings('ignore')"
   ]
  },
  {
   "cell_type": "code",
   "execution_count": null,
   "metadata": {},
   "outputs": [],
   "source": [
    "data = pd.read_csv('Absenteeism_at_work.csv', sep=';')\n",
    "data.head().T"
   ]
  },
  {
   "attachments": {},
   "cell_type": "markdown",
   "metadata": {},
   "source": [
    "# Descriptive Statistics \n",
    "#### As a rule of thumb it is a good thing to start the analysis by displaying the shape, missing values, types of columns and a discription about the data."
   ]
  },
  {
   "attachments": {},
   "cell_type": "markdown",
   "metadata": {},
   "source": [
    "- By using the info() function:\n",
    "    1. We can easily find the shape is 740 entries and total 21 columns.\n",
    "    2. No missing values and types of columns.\n",
    "    3. By looking at the head of the data and the info() We have to do some decoding to columns like \" Month of absence,Day of the week, Seasons,Disciplinary failure, Education, Social drinker, Social smoker \"\n",
    "    4. We have 2 Boolean columns (Social drinker and Social smoker).\n"
   ]
  },
  {
   "cell_type": "code",
   "execution_count": null,
   "metadata": {},
   "outputs": [],
   "source": [
    "data.info()"
   ]
  },
  {
   "attachments": {},
   "cell_type": "markdown",
   "metadata": {},
   "source": [
    "- Using the describe function to show the description of the numerical data.\n",
    "    1. We have 28 different reasons for absence 0-28 excluding 20.\n",
    "    2. Range of Ages 27-58.\n",
    "    3. by looking to the (mean, median) Seems that Transportation expense and Service time will be normally distributed. but Abenteeism time in hours wouldn't be normally distributed \n",
    "    4. Seems that Hit target column is a percentage of hitting the target."
   ]
  },
  {
   "cell_type": "code",
   "execution_count": null,
   "metadata": {},
   "outputs": [],
   "source": [
    "data.describe().T"
   ]
  },
  {
   "attachments": {},
   "cell_type": "markdown",
   "metadata": {},
   "source": [
    "#  Data Preprocessing\n",
    "- Decoding and Categorizing Variables:\n",
    "    1. Some columns need to be decoded as mentioned in the info phase.\n",
    "    2. We can categorize the Reason for absence into categories Disease and not a Disease \"yes/no\" by the International Code of Diseases (ICD)\n",
    "    3. We can also cluster the Body mass index into three categories (Obese, Normal weight and Over weight)\n",
    "    4. We can categorize absence based on age (Early young adults, Mid young adults, Mid career Professionals, Late career Professionals and Pre-retirement)."
   ]
  },
  {
   "cell_type": "code",
   "execution_count": null,
   "metadata": {},
   "outputs": [],
   "source": [
    "# Define decoding dictionaries\n",
    "month_decoding = {\n",
    "    1: \"January\",\n",
    "    2: \"February\",\n",
    "    3: \"March\",\n",
    "    4: \"April\",\n",
    "    5: \"May\",\n",
    "    6: \"June\",\n",
    "    7: \"July\",\n",
    "    8: \"August\",\n",
    "    9: \"September\",\n",
    "    10: \"October\",\n",
    "    11: \"November\",\n",
    "    12: \"December\",\n",
    "    0: \"Unknown\"\n",
    "}\n",
    "\n",
    "day_of_week_decoding = {\n",
    "    2: \"Monday\",\n",
    "    3: \"Tuesday\",\n",
    "    4: \"Wednesday\",\n",
    "    5: \"Thursday\",\n",
    "    6: \"Friday\"\n",
    "}\n",
    "\n",
    "season_decoding = {\n",
    "    1: \"Spring\",\n",
    "    2: \"Summer\",\n",
    "    3: \"Fall\",\n",
    "    4: \"Winter\"\n",
    "}\n",
    "\n",
    "education_decoding = {\n",
    "    1: \"High School\",\n",
    "    2: \"Graduate\",\n",
    "    3: \"Postgraduate\",\n",
    "    4: \"Master/PhD\"\n",
    "}\n",
    "\n",
    "yes_no_decoding = {\n",
    "    0: \"No\",\n",
    "    1: \"Yes\"\n",
    "}"
   ]
  },
  {
   "cell_type": "code",
   "execution_count": null,
   "metadata": {},
   "outputs": [],
   "source": [
    "preprocessed_data = data.copy()\n",
    "\n",
    "# Define encoding dictionaries\n",
    "decoding_dict = {\n",
    "    \"Month of absence\": month_decoding,\n",
    "    \"Day of the week\": day_of_week_decoding,\n",
    "    \"Seasons\": season_decoding,\n",
    "    \"Education\": education_decoding,\n",
    "    \"Disciplinary failure\": yes_no_decoding,\n",
    "    \"Social drinker\": yes_no_decoding,\n",
    "    \"Social smoker\": yes_no_decoding\n",
    "}\n",
    "\n",
    "# Backtransform numerical variables to categorical using replace() method\n",
    "preprocessed_data.replace(decoding_dict, inplace=True)\n",
    "\n",
    "# Print the transformed data\n",
    "preprocessed_data.head().T"
   ]
  },
  {
   "attachments": {},
   "cell_type": "markdown",
   "metadata": {},
   "source": [
    "- Creating Column Disease for the disease reasons and non-disease values."
   ]
  },
  {
   "cell_type": "code",
   "execution_count": null,
   "metadata": {},
   "outputs": [],
   "source": [
    "# Use lambda function instead of defining a separate function as it\n",
    "preprocessed_data[\"Disease\"] = preprocessed_data[\"Reason for absence\"].\\\n",
    "                                apply(\n",
    "                                        lambda val: True if val > 0 and val <= 21 else False\n",
    "                                    )"
   ]
  },
  {
   "attachments": {},
   "cell_type": "markdown",
   "metadata": {},
   "source": [
    "- Categorizing people by the body mass index"
   ]
  },
  {
   "cell_type": "code",
   "execution_count": null,
   "metadata": {},
   "outputs": [],
   "source": [
    "def bod_ms_ind(val):\n",
    "    if val < 18.5:\n",
    "        return 'Underweight'\n",
    "    elif val < 25:\n",
    "        return 'Normal Weight'\n",
    "    elif val < 30:\n",
    "        return 'Overweight'\n",
    "    else:\n",
    "        return 'Obese'\n",
    "\n",
    "preprocessed_data['BMI category'] = preprocessed_data['Body mass index'].apply(bod_ms_ind)\n"
   ]
  },
  {
   "attachments": {},
   "cell_type": "markdown",
   "metadata": {},
   "source": [
    "- Categorizing People by their age"
   ]
  },
  {
   "cell_type": "code",
   "execution_count": null,
   "metadata": {},
   "outputs": [],
   "source": [
    "def age_categorization(val):\n",
    "    if val <= 30:\n",
    "        return 'Early young adult'\n",
    "    elif val <= 35:\n",
    "        return 'Mid young adult'\n",
    "    elif val <= 44:\n",
    "        return 'Mid career professional'\n",
    "    elif val <= 53:\n",
    "        return 'Late career professional'\n",
    "    else:\n",
    "        return 'Pre-retirement'\n",
    "    \n",
    "preprocessed_data['Career level'] = preprocessed_data['Age'].apply(age_categorization)"
   ]
  },
  {
   "attachments": {},
   "cell_type": "markdown",
   "metadata": {},
   "source": [
    "# The Dataset is Ready for the Visual Analysis. It's been preprocessed and cleaned. "
   ]
  },
  {
   "cell_type": "code",
   "execution_count": null,
   "metadata": {},
   "outputs": [],
   "source": []
  }
 ],
 "metadata": {
  "kernelspec": {
   "display_name": "Python 3",
   "language": "python",
   "name": "python3"
  },
  "language_info": {
   "codemirror_mode": {
    "name": "ipython",
    "version": 3
   },
   "file_extension": ".py",
   "mimetype": "text/x-python",
   "name": "python",
   "nbconvert_exporter": "python",
   "pygments_lexer": "ipython3",
   "version": "3.10.7"
  },
  "orig_nbformat": 4
 },
 "nbformat": 4,
 "nbformat_minor": 2
}
